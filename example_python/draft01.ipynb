{
 "cells": [
  {
   "cell_type": "markdown",
   "metadata": {},
   "source": [
    "# ManiSDP Python"
   ]
  },
  {
   "cell_type": "code",
   "execution_count": 1,
   "metadata": {},
   "outputs": [],
   "source": [
    "import os\n",
    "import numpy as np\n",
    "import scipy.sparse\n",
    "\n",
    "try:\n",
    "    import manisdp\n",
    "except ImportError:\n",
    "    !pip install git+https://github.com/husisy/ManiSDP-matlab.git@zc-dev\n",
    "\n",
    "from manisdp import generate_theta_example, unittrace_cvxpy, manisdp_unittrace, manisdp_onlyunitdiag, read_maxcut_Gset"
   ]
  },
  {
   "cell_type": "markdown",
   "metadata": {},
   "source": [
    "## Example: `manisdp_onlyunitdiag()`\n",
    "\n",
    "max-cut problem\n",
    "\n",
    "adopted from `example/example_maxcut.m` [link](https://github.com/wangjie212/ManiSDP-matlab/blob/main/example/example_maxcut.m)\n",
    "\n",
    "`data/Gset/G32.txt` in the repo [link](https://github.com/wangjie212/ManiSDP-matlab/blob/main/data/Gset/G32.txt).\n",
    "\n",
    "$$ \\begin{align*}\\min_{X}&\\;\\mathrm{Tr}[CX]\\\\\n",
    "\\mathrm{s.t.}&\\begin{cases}\n",
    "X\\succeq0\\\\\n",
    "X_{ii}=1\n",
    "\\end{cases}\\end{align*} $$"
   ]
  },
  {
   "cell_type": "code",
   "execution_count": 4,
   "metadata": {},
   "outputs": [],
   "source": [
    "import os\n",
    "if not os.path.exists('G32.txt'):\n",
    "    !wget https://raw.githubusercontent.com/wangjie212/ManiSDP-matlab/refs/heads/main/data/Gset/G32.txt"
   ]
  },
  {
   "cell_type": "code",
   "execution_count": 2,
   "metadata": {},
   "outputs": [
    {
     "name": "stdout",
     "output_type": "stream",
     "text": [
      "Iter 1, obj:-1567.62048669, dinf:2.3e-05, r:17, Y.shape:(40, 2000), time:1.35s\n",
      "(25, 2000) -1567.6204866937167 -1567.621070899212\n",
      "Iter 2, obj:-1567.63960060, dinf:6.8e-07, r:10, Y.shape:(25, 2000), time:3.72s\n",
      "(15, 2000) -1567.6396005951624 -1567.6395944339545\n",
      "Iter 3, obj:-1567.63964122, dinf:3.4e-08, r:9, Y.shape:(15, 2000), time:5.74s\n",
      "(13, 2000) -1567.6396412221695 -1567.6395756051998\n",
      "Iter 4, obj:-1567.63964467, dinf:2.7e-09, r:9, Y.shape:(13, 2000), time:7.73s\n",
      "Optimality is reached!\n",
      "cost: -1567.6396446740375\n"
     ]
    }
   ],
   "source": [
    "z0 = read_maxcut_Gset('G32.txt')\n",
    "matC = -0.25 * scipy.sparse.csc_matrix(z0)\n",
    "return_info, Y = manisdp_onlyunitdiag(matC, p0=40)\n",
    "print('cost:', return_info['cost'])\n",
    "X = Y.T @ Y\n"
   ]
  },
  {
   "cell_type": "markdown",
   "metadata": {},
   "source": [
    "## Example: `manisdp_unittrace()`\n",
    "\n",
    "theta example?\n",
    "\n",
    "adopted from `example/example_theta.m` [link](https://github.com/wangjie212/ManiSDP-matlab/blob/main/example/example_theta.m)\n",
    "\n",
    "$$ \\begin{align*} \\min_{X}&\\mathrm{Tr}[CX]\\\\\n",
    "\\mathrm{s.t.}&\\begin{cases}\n",
    "X\\succeq0\\\\\n",
    "\\mathrm{Tr}[A_{i}X]=b_{i}\n",
    "\\end{cases} \\end{align*} $$"
   ]
  },
  {
   "cell_type": "code",
   "execution_count": 3,
   "metadata": {},
   "outputs": [
    {
     "name": "stdout",
     "output_type": "stream",
     "text": [
      "WARNING: python version \"manisdp_unittrace()\" is slower than matlab version by about 10x\n",
      "Iter 1, obj:-49.99971896, gap:3.6e-03, pinf:3.0e-01, dinf:2.4e-16, gradnorm:6.6e-09, r:1, Y.shape:(50, 1), time:0.00s\n",
      "Iter 2, obj:-49.99745388, gap:1.1e-02, pinf:3.0e-01, dinf:1.3e-15, gradnorm:5.9e-10, r:1, Y.shape:(50, 2), time:0.01s\n",
      "Iter 3, obj:-49.98594910, gap:2.5e-02, pinf:3.0e-01, dinf:0.0e+00, gradnorm:1.7e-09, r:1, Y.shape:(50, 2), time:0.01s\n",
      "Iter 4, obj:-49.93362407, gap:5.4e-02, pinf:2.9e-01, dinf:2.2e-16, gradnorm:1.4e-09, r:1, Y.shape:(50, 1), time:0.01s\n",
      "Iter 5, obj:-49.69829220, gap:1.1e-01, pinf:2.9e-01, dinf:1.4e-16, gradnorm:2.6e-09, r:1, Y.shape:(50, 2), time:0.02s\n",
      "Iter 6, obj:-48.54881350, gap:2.3e-01, pinf:2.7e-01, dinf:0.0e+00, gradnorm:5.5e-09, r:1, Y.shape:(50, 2), time:0.02s\n",
      "Iter 7, obj:-39.92844176, gap:3.6e-01, pinf:1.9e-01, dinf:5.1e-02, gradnorm:7.9e-09, r:1, Y.shape:(50, 1), time:0.04s\n",
      "Iter 8, obj:-20.26804932, gap:8.7e-02, pinf:5.2e-02, dinf:6.5e-02, gradnorm:9.5e-09, r:2, Y.shape:(50, 2), time:0.10s\n",
      "Iter 9, obj:-17.64889071, gap:2.6e-02, pinf:2.5e-02, dinf:2.2e-02, gradnorm:8.1e-04, r:6, Y.shape:(50, 7), time:0.23s\n",
      "Iter 10, obj:-17.02733899, gap:1.8e-02, pinf:1.2e-02, dinf:6.0e-10, gradnorm:9.9e-09, r:9, Y.shape:(50, 11), time:0.61s\n",
      "Iter 11, obj:-16.60291806, gap:1.2e-02, pinf:6.0e-03, dinf:8.6e-03, gradnorm:2.9e-02, r:9, Y.shape:(50, 13), time:0.75s\n",
      "Iter 12, obj:-16.29579408, gap:5.6e-03, pinf:2.7e-03, dinf:1.3e-02, gradnorm:6.8e-02, r:10, Y.shape:(50, 14), time:0.89s\n",
      "Iter 13, obj:-16.14461003, gap:1.7e-03, pinf:1.0e-03, dinf:5.7e-03, gradnorm:1.4e-01, r:12, Y.shape:(50, 17), time:1.04s\n",
      "Iter 14, obj:-16.10555737, gap:8.3e-04, pinf:5.1e-04, dinf:3.1e-03, gradnorm:1.1e-01, r:12, Y.shape:(50, 18), time:1.19s\n",
      "Iter 15, obj:-16.08839429, gap:4.5e-04, pinf:2.5e-04, dinf:9.4e-03, gradnorm:1.2e-01, r:12, Y.shape:(50, 18), time:1.34s\n",
      "Iter 16, obj:-16.07697012, gap:1.3e-04, pinf:7.7e-05, dinf:2.9e-02, gradnorm:2.3e-01, r:13, Y.shape:(50, 19), time:1.50s\n",
      "Iter 17, obj:-16.07049686, gap:1.0e-04, pinf:7.6e-05, dinf:6.9e-03, gradnorm:1.1e-01, r:15, Y.shape:(50, 21), time:1.66s\n",
      "Iter 18, obj:-16.07228155, gap:8.2e-05, pinf:8.6e-05, dinf:1.3e-03, gradnorm:5.6e-02, r:14, Y.shape:(50, 23), time:1.85s\n",
      "Iter 19, obj:-16.07413093, gap:2.4e-05, pinf:2.9e-05, dinf:3.4e-04, gradnorm:3.4e-02, r:14, Y.shape:(50, 21), time:2.00s\n",
      "Iter 20, obj:-16.07493878, gap:1.4e-06, pinf:1.2e-05, dinf:2.8e-04, gradnorm:2.8e-02, r:14, Y.shape:(50, 20), time:2.15s\n",
      "Iter 21, obj:-16.07580222, gap:2.2e-05, pinf:2.1e-05, dinf:2.2e-04, gradnorm:2.8e-02, r:14, Y.shape:(50, 20), time:2.30s\n",
      "Iter 22, obj:-16.07666586, gap:4.3e-05, pinf:7.7e-05, dinf:5.9e-07, gradnorm:1.1e-04, r:11, Y.shape:(50, 20), time:3.54s\n",
      "Iter 23, obj:-16.07604506, gap:2.6e-05, pinf:3.8e-05, dinf:1.6e-03, gradnorm:3.7e-03, r:11, Y.shape:(50, 16), time:3.68s\n",
      "Iter 24, obj:-16.07527281, gap:2.6e-06, pinf:1.5e-05, dinf:1.7e-03, gradnorm:6.9e-03, r:11, Y.shape:(50, 18), time:3.82s\n",
      "Iter 25, obj:-16.07489454, gap:8.8e-06, pinf:9.5e-06, dinf:4.2e-04, gradnorm:1.3e-02, r:13, Y.shape:(50, 18), time:3.97s\n",
      "Iter 26, obj:-16.07518672, gap:2.5e-07, pinf:4.9e-06, dinf:2.7e-04, gradnorm:1.4e-02, r:13, Y.shape:(50, 19), time:4.12s\n",
      "Iter 27, obj:-16.07538879, gap:5.7e-06, pinf:1.1e-05, dinf:1.3e-04, gradnorm:7.1e-03, r:13, Y.shape:(50, 18), time:4.27s\n",
      "Iter 28, obj:-16.07526534, gap:2.1e-06, pinf:8.6e-06, dinf:4.3e-04, gradnorm:4.5e-03, r:13, Y.shape:(50, 18), time:4.42s\n",
      "Iter 29, obj:-16.07504424, gap:4.6e-06, pinf:6.0e-06, dinf:3.6e-05, gradnorm:8.5e-03, r:13, Y.shape:(50, 18), time:4.57s\n",
      "Iter 30, obj:-16.07518614, gap:3.5e-07, pinf:2.2e-06, dinf:2.3e-05, gradnorm:6.3e-03, r:13, Y.shape:(50, 19), time:4.71s\n",
      "Iter 31, obj:-16.07537263, gap:5.2e-06, pinf:6.0e-06, dinf:1.7e-05, gradnorm:3.8e-03, r:13, Y.shape:(50, 18), time:4.86s\n",
      "Iter 32, obj:-16.07531227, gap:3.4e-06, pinf:4.1e-06, dinf:1.0e-05, gradnorm:3.5e-03, r:13, Y.shape:(50, 17), time:5.00s\n",
      "Iter 33, obj:-16.07523712, gap:1.2e-06, pinf:2.1e-06, dinf:3.5e-04, gradnorm:3.1e-03, r:13, Y.shape:(50, 17), time:5.15s\n",
      "Iter 34, obj:-16.07499066, gap:6.2e-06, pinf:6.8e-06, dinf:1.5e-05, gradnorm:4.1e-03, r:13, Y.shape:(50, 17), time:5.29s\n",
      "Iter 35, obj:-16.07515422, gap:1.3e-06, pinf:1.5e-06, dinf:2.0e-05, gradnorm:7.0e-03, r:13, Y.shape:(50, 17), time:5.43s\n",
      "Iter 36, obj:-16.07524827, gap:1.5e-06, pinf:1.9e-06, dinf:1.1e-05, gradnorm:3.9e-03, r:13, Y.shape:(50, 17), time:5.58s\n",
      "Iter 37, obj:-16.07533732, gap:4.2e-06, pinf:3.8e-06, dinf:7.8e-06, gradnorm:2.7e-03, r:13, Y.shape:(50, 16), time:5.72s\n",
      "Iter 38, obj:-16.07529520, gap:2.9e-06, pinf:2.7e-06, dinf:4.7e-06, gradnorm:1.8e-03, r:13, Y.shape:(50, 17), time:5.86s\n",
      "Iter 39, obj:-16.07523833, gap:1.2e-06, pinf:1.1e-06, dinf:6.9e-05, gradnorm:2.0e-03, r:13, Y.shape:(50, 17), time:6.00s\n",
      "Iter 40, obj:-16.07505105, gap:4.4e-06, pinf:5.7e-06, dinf:1.2e-05, gradnorm:3.8e-03, r:13, Y.shape:(50, 16), time:6.14s\n",
      "Iter 41, obj:-16.07517089, gap:8.4e-07, pinf:1.2e-06, dinf:1.8e-05, gradnorm:7.0e-03, r:13, Y.shape:(50, 18), time:6.28s\n",
      "Iter 42, obj:-16.07526155, gap:1.9e-06, pinf:2.0e-06, dinf:6.5e-06, gradnorm:3.2e-03, r:13, Y.shape:(50, 17), time:6.43s\n",
      "Iter 43, obj:-16.07532908, gap:3.9e-06, pinf:3.5e-06, dinf:4.5e-06, gradnorm:2.2e-03, r:13, Y.shape:(50, 16), time:6.57s\n",
      "Iter 44, obj:-16.07528195, gap:2.5e-06, pinf:2.2e-06, dinf:5.3e-06, gradnorm:1.6e-03, r:13, Y.shape:(50, 16), time:6.71s\n",
      "Iter 45, obj:-16.07522667, gap:8.2e-07, pinf:8.1e-07, dinf:8.6e-06, gradnorm:1.8e-03, r:13, Y.shape:(50, 17), time:6.87s\n",
      "Iter 46, obj:-16.07513299, gap:2.0e-06, pinf:2.7e-06, dinf:6.0e-06, gradnorm:3.5e-03, r:13, Y.shape:(50, 18), time:7.03s\n",
      "Iter 47, obj:-16.07521068, gap:3.3e-07, pinf:1.2e-06, dinf:4.0e-06, gradnorm:1.7e-03, r:13, Y.shape:(50, 17), time:7.23s\n",
      "Iter 48, obj:-16.07530013, gap:3.0e-06, pinf:2.6e-06, dinf:3.5e-06, gradnorm:1.3e-03, r:13, Y.shape:(50, 16), time:7.38s\n",
      "Iter 49, obj:-16.07527148, gap:2.2e-06, pinf:2.0e-06, dinf:3.4e-06, gradnorm:9.5e-04, r:13, Y.shape:(50, 17), time:7.54s\n",
      "Iter 50, obj:-16.07523696, gap:1.1e-06, pinf:9.8e-07, dinf:5.1e-06, gradnorm:8.8e-04, r:13, Y.shape:(50, 16), time:7.68s\n",
      "Iter 51, obj:-16.07518585, gap:4.2e-07, pinf:7.7e-07, dinf:1.3e-05, gradnorm:1.9e-03, r:13, Y.shape:(50, 17), time:7.84s\n",
      "Iter 52, obj:-16.07518636, gap:4.1e-07, pinf:1.2e-06, dinf:3.5e-06, gradnorm:1.5e-03, r:13, Y.shape:(50, 18), time:8.01s\n",
      "Iter 53, obj:-16.07522974, gap:9.0e-07, pinf:9.8e-07, dinf:2.8e-06, gradnorm:9.4e-04, r:13, Y.shape:(50, 15), time:8.16s\n",
      "Iter 54, obj:-16.07521682, gap:5.1e-07, pinf:4.7e-07, dinf:2.1e-06, gradnorm:8.8e-04, r:13, Y.shape:(50, 16), time:8.30s\n",
      "Iter 55, obj:-16.07521295, gap:3.9e-07, pinf:4.4e-07, dinf:2.2e-06, gradnorm:6.3e-04, r:13, Y.shape:(50, 16), time:8.45s\n",
      "Iter 56, obj:-16.07523506, gap:1.1e-06, pinf:8.1e-07, dinf:1.8e-06, gradnorm:4.9e-04, r:13, Y.shape:(50, 15), time:8.62s\n",
      "Iter 57, obj:-16.07521355, gap:4.0e-07, pinf:5.3e-07, dinf:1.6e-06, gradnorm:5.0e-04, r:13, Y.shape:(50, 18), time:8.78s\n",
      "Iter 58, obj:-16.07520630, gap:1.9e-07, pinf:3.5e-07, dinf:1.7e-06, gradnorm:8.8e-04, r:13, Y.shape:(50, 16), time:8.92s\n",
      "Iter 59, obj:-16.07520394, gap:1.1e-07, pinf:3.7e-07, dinf:1.3e-06, gradnorm:4.4e-04, r:13, Y.shape:(50, 17), time:9.07s\n",
      "Iter 60, obj:-16.07521278, gap:3.8e-07, pinf:5.7e-07, dinf:1.1e-06, gradnorm:3.5e-04, r:13, Y.shape:(50, 16), time:9.25s\n",
      "Iter 61, obj:-16.07520779, gap:2.3e-07, pinf:3.0e-07, dinf:8.3e-07, gradnorm:4.4e-04, r:13, Y.shape:(50, 15), time:9.41s\n",
      "Iter 62, obj:-16.07520321, gap:9.1e-08, pinf:4.2e-07, dinf:7.2e-07, gradnorm:2.9e-04, r:13, Y.shape:(50, 18), time:9.59s\n",
      "Iter 63, obj:-16.07520476, gap:1.4e-07, pinf:2.9e-07, dinf:1.2e-06, gradnorm:4.4e-04, r:13, Y.shape:(50, 16), time:9.73s\n",
      "Iter 64, obj:-16.07520263, gap:7.3e-08, pinf:6.8e-07, dinf:8.8e-07, gradnorm:2.9e-04, r:13, Y.shape:(50, 17), time:9.88s\n",
      "Iter 65, obj:-16.07519754, gap:8.0e-08, pinf:4.7e-07, dinf:1.9e-06, gradnorm:4.4e-04, r:13, Y.shape:(50, 17), time:10.03s\n",
      "Iter 66, obj:-16.07518655, gap:4.1e-07, pinf:7.1e-07, dinf:3.0e-06, gradnorm:9.6e-04, r:13, Y.shape:(50, 18), time:10.19s\n",
      "Iter 67, obj:-16.07520510, gap:1.5e-07, pinf:7.8e-07, dinf:1.1e-06, gradnorm:4.9e-04, r:13, Y.shape:(50, 17), time:10.36s\n",
      "Iter 68, obj:-16.07520178, gap:4.8e-08, pinf:2.5e-07, dinf:1.2e-06, gradnorm:3.8e-04, r:13, Y.shape:(50, 15), time:10.51s\n",
      "Iter 69, obj:-16.07520363, gap:1.0e-07, pinf:4.2e-07, dinf:1.1e-06, gradnorm:4.4e-04, r:13, Y.shape:(50, 16), time:10.65s\n",
      "Iter 70, obj:-16.07521238, gap:3.7e-07, pinf:5.8e-07, dinf:6.3e-07, gradnorm:2.4e-04, r:13, Y.shape:(50, 16), time:10.79s\n",
      "Iter 71, obj:-16.07520558, gap:1.6e-07, pinf:2.9e-07, dinf:7.8e-07, gradnorm:4.4e-04, r:13, Y.shape:(50, 16), time:10.93s\n",
      "Iter 72, obj:-16.07520315, gap:8.8e-08, pinf:4.4e-07, dinf:5.9e-07, gradnorm:2.2e-04, r:13, Y.shape:(50, 17), time:11.07s\n",
      "Iter 73, obj:-16.07520015, gap:2.4e-09, pinf:2.5e-07, dinf:1.1e-06, gradnorm:4.4e-04, r:13, Y.shape:(50, 16), time:11.21s\n",
      "Iter 74, obj:-16.07520775, gap:2.3e-07, pinf:4.4e-07, dinf:6.3e-07, gradnorm:2.2e-04, r:13, Y.shape:(50, 16), time:11.35s\n",
      "Iter 75, obj:-16.07519872, gap:4.6e-08, pinf:3.5e-07, dinf:1.7e-06, gradnorm:4.4e-04, r:13, Y.shape:(50, 17), time:11.50s\n",
      "Iter 76, obj:-16.07519104, gap:2.8e-07, pinf:9.5e-07, dinf:8.0e-07, gradnorm:3.4e-04, r:13, Y.shape:(50, 17), time:11.64s\n",
      "Iter 77, obj:-16.07519930, gap:2.8e-08, pinf:2.8e-07, dinf:9.6e-07, gradnorm:4.4e-04, r:13, Y.shape:(50, 16), time:11.78s\n",
      "Iter 78, obj:-16.07520777, gap:2.3e-07, pinf:4.5e-07, dinf:4.8e-07, gradnorm:2.2e-04, r:13, Y.shape:(50, 16), time:11.92s\n",
      "Iter 79, obj:-16.07520406, gap:1.2e-07, pinf:2.1e-07, dinf:5.8e-07, gradnorm:2.2e-04, r:13, Y.shape:(50, 15), time:12.07s\n",
      "Iter 80, obj:-16.07519889, gap:4.1e-08, pinf:4.1e-07, dinf:5.5e-07, gradnorm:2.2e-04, r:13, Y.shape:(50, 17), time:12.22s\n",
      "Iter 81, obj:-16.07518808, gap:3.7e-07, pinf:5.7e-07, dinf:6.6e-06, gradnorm:4.2e-04, r:13, Y.shape:(50, 18), time:12.36s\n",
      "Slow progress!\n",
      "cvxpy obj: -16.075200730600116\n",
      "manisdp obj: -16.07518808178174\n"
     ]
    }
   ],
   "source": [
    "C, A, b = generate_theta_example(n=50)\n",
    "X_cvxpy, fval_cvxpy = unittrace_cvxpy(C, A.toarray().reshape(-1, *C.shape), b)\n",
    "kwargs = dict(sigma0=1, tol=1e-8, TR_maxinner=20, TR_maxiter=4, tao=1e-3, theta=1e-2, delta=10, line_search=True, alpha=0.01)\n",
    "return_info, Y = manisdp_unittrace(C, A, b, **kwargs)\n",
    "\n",
    "print('cvxpy obj:', fval_cvxpy)\n",
    "print('manisdp obj:', return_info['cost'])\n"
   ]
  },
  {
   "cell_type": "markdown",
   "metadata": {},
   "source": [
    "WARNING: `manisdp_unittrace` is 10x slower than that matlab version. After doing some profiling, I think the sparse matrix multiplication is the bottleneck."
   ]
  }
 ],
 "metadata": {
  "kernelspec": {
   "display_name": "Python 3",
   "language": "python",
   "name": "python3"
  },
  "language_info": {
   "codemirror_mode": {
    "name": "ipython",
    "version": 3
   },
   "file_extension": ".py",
   "mimetype": "text/x-python",
   "name": "python",
   "nbconvert_exporter": "python",
   "pygments_lexer": "ipython3",
   "version": "3.12.7"
  }
 },
 "nbformat": 4,
 "nbformat_minor": 2
}
